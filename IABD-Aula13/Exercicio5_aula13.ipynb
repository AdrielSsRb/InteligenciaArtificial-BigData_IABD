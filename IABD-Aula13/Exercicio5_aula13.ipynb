{
 "cells": [
  {
   "cell_type": "code",
   "execution_count": 11,
   "metadata": {},
   "outputs": [],
   "source": [
    "#Aprendizado não supervisionado - Algoritimo Kmeans\n",
    "\n",
    "\n",
    "#Passo 1 importação das bibliotecas\n",
    "import numpy as np #Biblioteca para criar o array numpy\n",
    "import pandas as pd #Biblioteca para criar o dataframe\n",
    "from sklearn.cluster import KMeans #Bibioteca para plotagem de graficos\n",
    "import matplotlib.pyplot as plt #Biblioteca Nova"
   ]
  },
  {
   "cell_type": "code",
   "execution_count": 12,
   "metadata": {},
   "outputs": [],
   "source": [
    "medicoes  = pd.DataFrame({\n",
    " 'Máquina': ['M1', 'M2', 'M3', 'M4', 'M5', 'M6', 'M7', 'M8', 'M9', 'M10'],\n",
    " 'Temperatura': [70.2, 65.1, 75.5, 80.3, 68.7, 72.9, 78.6, 66.4, 73.1, 69.5],\n",
    " 'Vibração': [12.5, 8.2, 15.6, 10.2, 11.8, 14.3, 9.8, 8.9, 13.7, 12.1],\n",
    " 'Corrente': [4.7, 3.9, 5.1, 4.5, 4.2, 5.3, 4.8, 4.0, 5.0, 4.3]\n",
    "})"
   ]
  },
  {
   "cell_type": "code",
   "execution_count": 13,
   "metadata": {},
   "outputs": [
    {
     "data": {
      "text/plain": [
       "<bound method NDFrame.head of   Máquina  Temperatura  Vibração  Corrente\n",
       "0      M1         70.2      12.5       4.7\n",
       "1      M2         65.1       8.2       3.9\n",
       "2      M3         75.5      15.6       5.1\n",
       "3      M4         80.3      10.2       4.5\n",
       "4      M5         68.7      11.8       4.2\n",
       "5      M6         72.9      14.3       5.3\n",
       "6      M7         78.6       9.8       4.8\n",
       "7      M8         66.4       8.9       4.0\n",
       "8      M9         73.1      13.7       5.0\n",
       "9     M10         69.5      12.1       4.3>"
      ]
     },
     "execution_count": 13,
     "metadata": {},
     "output_type": "execute_result"
    }
   ],
   "source": [
    "medicoes.head"
   ]
  },
  {
   "cell_type": "code",
   "execution_count": null,
   "metadata": {},
   "outputs": [],
   "source": []
  }
 ],
 "metadata": {
  "kernelspec": {
   "display_name": "Python 3",
   "language": "python",
   "name": "python3"
  },
  "language_info": {
   "codemirror_mode": {
    "name": "ipython",
    "version": 3
   },
   "file_extension": ".py",
   "mimetype": "text/x-python",
   "name": "python",
   "nbconvert_exporter": "python",
   "pygments_lexer": "ipython3",
   "version": "3.11.4"
  }
 },
 "nbformat": 4,
 "nbformat_minor": 2
}
